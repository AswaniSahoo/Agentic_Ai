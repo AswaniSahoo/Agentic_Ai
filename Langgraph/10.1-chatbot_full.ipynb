{
 "cells": [
  {
   "cell_type": "markdown",
   "id": "cf8962ed",
   "metadata": {},
   "source": [
    "### Implementing simple Chatbot Using Langgraph"
   ]
  },
  {
   "cell_type": "code",
   "execution_count": 1,
   "id": "e1ac9266",
   "metadata": {},
   "outputs": [],
   "source": [
    "from typing_extensions import TypedDict\n",
    "\n",
    "from langgraph.graph import StateGraph, START, END\n",
    "\n",
    "## Reducers\n",
    "from typing import Annotated\n",
    "from langgraph.graph.message import add_messages"
   ]
  },
  {
   "cell_type": "code",
   "execution_count": 2,
   "id": "64fbcd74",
   "metadata": {},
   "outputs": [],
   "source": [
    "class State(TypedDict):\n",
    "    messages:Annotated[list,add_messages]"
   ]
  },
  {
   "cell_type": "code",
   "execution_count": 3,
   "id": "6d69acbe",
   "metadata": {},
   "outputs": [],
   "source": [
    "import os\n",
    "from dotenv import load_dotenv\n",
    "load_dotenv()\n",
    "\n",
    "os.environ['OPENAI_API_KEY']=os.getenv(\"GROQ_API_KEY\")"
   ]
  },
  {
   "cell_type": "code",
   "execution_count": 6,
   "id": "85a72315",
   "metadata": {},
   "outputs": [
    {
     "data": {
      "text/plain": [
       "AIMessage(content='Hello Aswani! Nice to meet you. How can I assist you today?', additional_kwargs={'reasoning_content': 'The user says \"hello, i am Aswani\". We need to respond politely, greeting them, maybe ask how we can help. No policy issues.'}, response_metadata={'token_usage': {'completion_tokens': 57, 'prompt_tokens': 77, 'total_tokens': 134, 'completion_time': 0.116414831, 'prompt_time': 0.002994871, 'queue_time': 0.046316369, 'total_time': 0.119409702}, 'model_name': 'openai/gpt-oss-120b', 'system_fingerprint': 'fp_82669fd91d', 'service_tier': 'on_demand', 'finish_reason': 'stop', 'logprobs': None}, id='run--95a5de72-5c1a-436c-8993-006cb9b14167-0', usage_metadata={'input_tokens': 77, 'output_tokens': 57, 'total_tokens': 134})"
      ]
     },
     "execution_count": 6,
     "metadata": {},
     "output_type": "execute_result"
    }
   ],
   "source": [
    "from langchain_groq import ChatGroq\n",
    "llm =ChatGroq(model=\"openai/gpt-oss-120b\")\n",
    "llm.invoke(\"hello, i am Aswani\")"
   ]
  },
  {
   "cell_type": "markdown",
   "id": "c206728f",
   "metadata": {},
   "source": [
    "### We will start with Creting Nodes"
   ]
  },
  {
   "cell_type": "code",
   "execution_count": 7,
   "id": "0789fb73",
   "metadata": {},
   "outputs": [],
   "source": [
    "def superbot(state:State):\n",
    "    return {\"messages\":[llm.invoke(state[\"messages\"])]}"
   ]
  },
  {
   "cell_type": "code",
   "execution_count": 9,
   "id": "4b2a7bb3",
   "metadata": {},
   "outputs": [
    {
     "data": {
      "image/png": "[encoded data removed]",
      "text/plain": [
       "<IPython.core.display.Image object>"
      ]
     },
     "metadata": {},
     "output_type": "display_data"
    }
   ],
   "source": [
    "graph = StateGraph(State)\n",
    "\n",
    "## node\n",
    "graph.add_node(\"Superbot\",superbot)\n",
    "\n",
    "##Edges\n",
    "graph.add_edge(START,\"Superbot\")\n",
    "graph.add_edge(\"Superbot\",END)\n",
    "\n",
    "## Compile the graph\n",
    "graph_builder=graph.compile()\n",
    "\n",
    "## View\n",
    "from IPython.display import Image,display\n",
    "display(Image(graph_builder.get_graph().draw_mermaid_png()))"
   ]
  },
  {
   "cell_type": "code",
   "execution_count": 10,
   "id": "5898fcd2",
   "metadata": {},
   "outputs": [
    {
     "data": {
      "text/plain": [
       "{'messages': [HumanMessage(content='Hi , My name is Aswani and i like to explore ai agent field', additional_kwargs={}, response_metadata={}, id='caeca44f-cff7-43af-82a8-7d3a20321d62'),\n",
       "  AIMessage(content='Hello Aswani! 👋\\n\\nIt’s great to meet someone who’s interested in the AI agent space. There’s a lot of exciting work happening—from chatbots and virtual assistants to autonomous agents that can plan, reason, and even act in the physical world.\\n\\n### Quick Overview of the AI Agent Landscape\\n\\n| Category | What It Is | Popular Tools / Frameworks | Typical Use‑Cases |\\n|----------|------------|---------------------------|-------------------|\\n| **Conversational Agents** | Text‑ or voice‑based bots that understand and generate language. | OpenAI GPT‑4/ChatGPT, Google Gemini, Microsoft Azure Bot Service, Rasa, LangChain | Customer support, personal assistants, tutoring |\\n| **Planning & Decision‑Making Agents** | Agents that can reason about goals, constraints, and actions over multiple steps. | OpenAI Function Calling, ReAct, BabyAGI, AutoGPT, LangChain Chains, PlannerGPT | Task automation, research assistants, workflow orchestration |\\n| **Embodied / Robotics Agents** | Agents that perceive the world through sensors and act through motors or simulated environments. | ROS (Robot Operating System), OpenAI Gym, DeepMind Lab, Isaac Gym, Unity ML‑Agents | Warehouse robots, home assistants, autonomous drones |\\n| **Multi‑Agent Systems** | Collections of agents that collaborate or compete to solve complex problems. | OpenAI Multi‑Agent Arena, PettingZoo, SPADE, JADE | Simulated economies, game AI, distributed problem solving |\\n| **Tool‑Using Agents** | Agents that can call external APIs, run code, or fetch data on the fly. | OpenAI Function Calling, LangChain Tools, AutoGPT plugins, LlamaIndex | Data retrieval, code generation, spreadsheet automation |\\n\\n### Getting Started – A Practical Path\\n\\n1. **Pick a Niche**  \\n   - *Chatbot / virtual assistant*: Great for learning prompt engineering, retrieval‑augmented generation (RAG), and conversation flow.  \\n   - *Task‑oriented automation*: Focus on planning, tool‑use, and state management.  \\n   - *Embodied robotics*: Dive into simulation environments and sensor‑actuator loops.\\n\\n2. **Learn the Core Concepts**  \\n   - **Prompt Engineering** – How to craft instructions that guide LLMs.  \\n   - **Retrieval‑Augmented Generation (RAG)** – Combining vector stores (e.g., Pinecone, Chroma) with LLMs for up‑to‑date knowledge.  \\n   - **Chain‑of‑Thought & ReAct** – Techniques for multi‑step reasoning.  \\n   - **Function Calling / Tool Integration** – Letting LLMs invoke APIs or run code.\\n\\n3. **Hands‑On Mini‑Projects**  \\n   - **Chatbot with RAG**: Build a FAQ bot that pulls answers from your own PDF docs using LangChain + OpenAI embeddings.  \\n   - **Auto‑Task Agent**: Use LangChain’s “Agent” class to create a bot that can search the web, summarize articles, and write a short report.  \\n   - **Simulated Robot**: Try Unity ML‑Agents to train a simple navigation agent, then replace the policy with an LLM that decides high‑level actions.\\n\\n4. **Explore Frameworks**  \\n   - **LangChain** – The go‑to library for chaining LLM calls, tools, and memory.  \\n   - **LlamaIndex (formerly GPT‑Index)** – Great for building custom knowledge bases.  \\n   - **OpenAI Function Calling** – Structured output that lets LLMs produce JSON for downstream actions.  \\n   - **AutoGPT / BabyAGI** – Open‑source “autonomous” agents you can fork and experiment with.\\n\\n5. **Community & Resources**  \\n   - **Discord / Slack**: LangChain Community, OpenAI Community, r/MachineLearning, r/ChatGPT.  \\n   - **Courses**: DeepLearning.AI’s “ChatGPT Prompt Engineering for Developers”, Coursera’s “AI for Everyone”, Udemy’s “Building AI Agents with LangChain”.  \\n   - **Blogs & Papers**:  \\n     - “ReAct: Synergizing Reasoning and Acting in Language Models” (2023)  \\n     - “Self‑Improving Agents” (AutoGPT, BabyAGI)  \\n     - “Retrieval‑Augmented Generation for Knowledge‑Intensive NLP Tasks” (2023)\\n\\n### Quick Starter Code (Python + LangChain)\\n\\nHere’s a tiny snippet that creates a **RAG‑enabled chatbot** using OpenAI’s GPT‑4 and a local vector store (Chroma). It’s a good first step to see how an agent can retrieve relevant passages and answer questions.\\n\\n```python\\n# pip install langchain openai chromadb tiktoken\\nfrom langchain.embeddings import OpenAIEmbeddings\\nfrom langchain.vectorstores import Chroma\\nfrom langchain.llms import OpenAI\\nfrom langchain.chains import RetrievalQA\\n\\n# 1️⃣ Load your documents (replace with your own PDFs, txt, etc.)\\ndocuments = [\\n    \"Artificial intelligence agents can reason, plan, and act autonomously.\",\\n    \"LangChain simplifies building LLM‑powered applications by providing wrappers for prompts, memory, and tools.\"\\n]\\n\\n# 2️⃣ Create embeddings & vector store\\nembeddings = OpenAIEmbeddings()\\nvectorstore = Chroma.from_texts(documents, embeddings)\\n\\n# 3️⃣ Set up the LLM (make sure OPENAI_API_KEY env var is set)\\nllm = OpenAI(model=\"gpt-4\", temperature=0.2)\\n\\n# 4️⃣ Build a RetrievalQA chain\\nqa = RetrievalQA.from_chain_type(\\n    llm=llm,\\n    chain_type=\"stuff\",   # \"map_reduce\" or \"refine\" also work\\n    retriever=vectorstore.as_retriever(search_kwargs={\"k\": 2}),\\n)\\n\\n# 5️⃣ Ask a question\\nwhile True:\\n    query = input(\"\\\\n❓ Ask me anything (or type \\'exit\\'): \")\\n    if query.lower() in {\"exit\", \"quit\"}:\\n        break\\n    answer = qa.run(query)\\n    print(\"\\\\n🤖\", answer)\\n```\\n\\n**What this does:**  \\n- Embeds your text snippets into a vector space.  \\n- When you ask a question, the system retrieves the most relevant snippets and feeds them to GPT‑4, which generates a concise answer.  \\n- You can expand it by loading real knowledge bases (PDFs, webpages) and adding **memory** (so the bot remembers prior turns).\\n\\n### Next Steps for You\\n\\n1. **Pick a concrete project** (e.g., “Build a personal finance assistant that can fetch my bank statements, categorize expenses, and suggest savings”).  \\n2. **Set up a dev environment** (Python\\u202f3.10+, virtualenv, OpenAI API key).  \\n3. **Follow a tutorial** – LangChain’s official docs have a “Chat with your documents” guide that aligns with the snippet above.  \\n4. **Iterate** – Add a memory layer (`ConversationBufferMemory`), integrate a tool (e.g., a weather API), and experiment with function calling for structured outputs.  \\n\\nFeel free to let me know which sub‑area excites you the most, or share a project idea you have in mind. I can help you sketch out architecture, pick libraries, or troubleshoot code as you go. Happy building! 🚀', additional_kwargs={'reasoning_content': 'The user says: \"Hi , My name is Aswani and i like to explore ai agent field\". Likely they want a response. We should greet them, ask about interests, maybe provide resources. No disallowed content. Just respond friendly.'}, response_metadata={'token_usage': {'completion_tokens': 1600, 'prompt_tokens': 86, 'total_tokens': 1686, 'completion_time': 3.222719086, 'prompt_time': 0.003091013, 'queue_time': 0.051028066, 'total_time': 3.225810099}, 'model_name': 'openai/gpt-oss-120b', 'system_fingerprint': 'fp_213abb2467', 'service_tier': 'on_demand', 'finish_reason': 'stop', 'logprobs': None}, id='run--b805e07e-5cb2-430b-9c1c-a451c4b5d31e-0', usage_metadata={'input_tokens': 86, 'output_tokens': 1600, 'total_tokens': 1686})]}"
      ]
     },
     "execution_count": 10,
     "metadata": {},
     "output_type": "execute_result"
    }
   ],
   "source": [
    "graph_builder.invoke({\"messages\":\"Hi , My name is Aswani and i like to explore ai agent field\"})"
   ]
  },
  {
   "cell_type": "markdown",
   "id": "f469b3b4",
   "metadata": {},
   "source": [
    "### Streaming The responses"
   ]
  },
  {
   "cell_type": "code",
   "execution_count": 13,
   "id": "54640f4c",
   "metadata": {},
   "outputs": [
    {
     "name": "stdout",
     "output_type": "stream",
     "text": [
      "{'Superbot': {'messages': [AIMessage(content='Hey there! 👋  \\n\\nChoosing a first language (whether it’s a spoken language or a programming language) depends a lot on **what you want to do with it**. Below are some quick recommendations for both scenarios, plus a short decision‑tree you can use to pick the one that fits you best.\\n\\n---\\n\\n## 1️⃣ If you’re talking about **spoken languages**\\n\\n| Goal | Best Language(s) to Start With | Why It Helps |\\n|------|--------------------------------|--------------|\\n| **Travel & Global Communication** | **Spanish**, **French**, **Mandarin Chinese** | Huge number of speakers, widely taught, lots of resources. |\\n| **Career in Tech / Business** | **English** (if you’re not already fluent) | Dominates tech documentation, conferences, and multinational business. |\\n| **Cultural Interest / Heritage** | **German**, **Japanese**, **Arabic**, **Portuguese**, etc. | Choose the culture you love most—motivation is key! |\\n| **Cognitive Challenge / Linguistic Curiosity** | **Finnish**, **Hungarian**, **Icelandic** | Complex grammar & vocab, great for brain‑training. |\\n| **Ease of Learning (for English speakers)** | **Spanish**, **Italian**, **Dutch** | Similar alphabet, many cognates, regular pronunciation. |\\n\\n**Quick tip:** Try a 15‑minute free lesson on a platform like Duolingo, Memrise, or Busuu. If the vibe feels right, stick with it—consistency beats the “perfect” choice.\\n\\n---\\n\\n## 2️⃣ If you’re talking about **programming languages**\\n\\n### A. General‑purpose, beginner‑friendly\\n\\n| Language | What It’s Great For | Typical First‑Project Ideas |\\n|----------|--------------------|-----------------------------|\\n| **Python** | Data analysis, AI/ML, web back‑ends, automation, scientific computing | Simple scripts, web scrapers, a basic Flask/Django site, a tiny game with Pygame |\\n| **JavaScript** (plus HTML\\u202f+\\u202fCSS) | Front‑end web development, Node.js back‑ends, interactive visualizations | Personal portfolio site, interactive quiz, simple to‑do app |\\n| **Ruby** | Web apps (Rails), clean syntax, rapid prototyping | Blog with Ruby on Rails, small CLI tools |\\n| **Scratch / Blockly** (visual) | Absolute beginners, kids, logic fundamentals | Drag‑and‑drop games, animations |\\n\\n**Why Python often wins the “best first language” crown:**  \\n- Readable, English‑like syntax.  \\n- Massive community & countless tutorials.  \\n- Works on almost any platform (Windows, macOS, Linux, Raspberry\\u202fPi).  \\n- Direct path to hot fields like data science, AI, and automation.\\n\\n### B. If you have a specific domain in mind\\n\\n| Domain | Top Language(s) to Consider |\\n|--------|------------------------------|\\n| **Web Front‑End** | JavaScript (React, Vue, Angular) + HTML/CSS |\\n| **Web Back‑End** | Python (Django/Flask), JavaScript (Node.js), Ruby (Rails), PHP, Go |\\n| **Mobile Apps** | Kotlin (Android), Swift (iOS), JavaScript (React Native), Dart (Flutter) |\\n| **Game Development** | C# (Unity), C++ (Unreal), Godot’s GDScript |\\n| **Data Science / AI** | Python (pandas, NumPy, scikit‑learn, TensorFlow, PyTorch) |\\n| **Systems / Embedded** | C, C++, Rust |\\n| **Finance / Quant** | Python, R, Julia |\\n| **DevOps / Cloud** | Go, Python, Bash, YAML (for config) |\\n| **Functional Programming** | Haskell, Elixir, Clojure, F# |\\n\\n### C. Decision‑Tree Cheat Sheet\\n\\n1. **Do you want to build websites?** → JavaScript (front‑end) + a back‑end language (Python, Node.js, Ruby).  \\n2. **Are you drawn to AI/ML or data analysis?** → Python.  \\n3. **Want to make mobile apps?** → Kotlin (Android) or Swift (iOS); otherwise React Native (JS) or Flutter (Dart).  \\n4. **Interested in game dev?** → C# (Unity) or C++ (Unreal).  \\n5. **Curious about low‑level systems or performance?** → C, C++, or Rust.  \\n6. **Just want a gentle introduction to programming concepts?** → Python or Scratch.  \\n\\n---\\n\\n## 3️⃣ How to Get Started Right Now\\n\\n1. **Pick a language** based on the table above.  \\n2. **Set up a tiny, achievable goal** (e.g., “Write a program that says hello and asks for my name”).  \\n3. **Follow a free, structured tutorial**:  \\n   - *Python*: “Automate the Boring Stuff” (online book) + freeCodeCamp’s 4‑hour Python crash course on YouTube.  \\n   - *JavaScript*: “JavaScript30” by Wes Bos (30‑day project series).  \\n   - *Spanish*: Duolingo’s first 5 lessons + a 10‑minute daily podcast (e.g., “Coffee Break Spanish”).  \\n4. **Practice daily, even if only 15‑20\\u202fminutes.** Consistency beats marathon sessions.  \\n5. **Join a community** (Stack Overflow, Reddit r/learnprogramming, Discord study rooms, language‑exchange apps like Tandem).  \\n\\n---\\n\\n## 4️⃣ TL;DR\\n\\n- **Spoken language**: Choose based on travel, career, or personal interest. Spanish and French are the most versatile for beginners; English is essential for tech.  \\n- **Programming language**:  \\n  - **Python** – best all‑round starter, especially for data, automation, and web back‑ends.  \\n  - **JavaScript** – must‑know for any web work.  \\n  - Pick a niche language later once you know the domain you love.\\n\\n---\\n\\n**What’s your main goal?**  \\nIf you tell me a bit more—e.g., “I want to build a personal website,” or “I love traveling in South America”—I can narrow the recommendation even further. Happy learning! 🚀', additional_kwargs={'reasoning_content': 'The user asks: \"Hello which language is good for learning?\" Likely they want advice on which programming language to learn. Could be ambiguous: could be spoken language. But context: likely programming language. Should ask clarification? Could give suggestions: Python for beginners, JavaScript for web, etc. Provide criteria. Also ask about goals. Provide answer.'}, response_metadata={'token_usage': {'completion_tokens': 1409, 'prompt_tokens': 79, 'total_tokens': 1488, 'completion_time': 2.897348888, 'prompt_time': 0.002982099, 'queue_time': 0.047448551, 'total_time': 2.9003309870000002}, 'model_name': 'openai/gpt-oss-120b', 'system_fingerprint': 'fp_ed9190d8b7', 'service_tier': 'on_demand', 'finish_reason': 'stop', 'logprobs': None}, id='run--71f48616-93b7-4a5e-9e88-8937ac2a755d-0', usage_metadata={'input_tokens': 79, 'output_tokens': 1409, 'total_tokens': 1488})]}}\n"
     ]
    }
   ],
   "source": [
    "for event in graph_builder.stream({\"messages\":\"Hello which language is good for learning?\"},stream_mode=\"updates\"):\n",
    "    print(event)"
   ]
  },
  {
   "cell_type": "code",
   "execution_count": null,
   "id": "667e14fd",
   "metadata": {},
   "outputs": [],
   "source": []
  }
 ],
 "metadata": {
  "kernelspec": {
   "display_name": "lenv",
   "language": "python",
   "name": "python3"
  },
  "language_info": {
   "codemirror_mode": {
    "name": "ipython",
    "version": 3
   },
   "file_extension": ".py",
   "mimetype": "text/x-python",
   "name": "python",
   "nbconvert_exporter": "python",
   "pygments_lexer": "ipython3",
   "version": "3.12.11"
  }
 },
 "nbformat": 4,
 "nbformat_minor": 5
}
