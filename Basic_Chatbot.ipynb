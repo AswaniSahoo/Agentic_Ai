{
 "cells": [
  {
   "cell_type": "markdown",
   "id": "4f762f6f",
   "metadata": {},
   "source": [
    "## Building A Chatbot\n",
    "In this video We'll go over an example of how to design and implement an LLM-powered chatbot. This chatbot will be able to have a conversation and remember previous interactions.\n",
    "\n",
    "Note that this chatbot that we build will only use the language model to have a conversation. There are several other related concepts that you may be looking for:\n",
    "\n",
    "- Conversational RAG: Enable a chatbot experience over an external source of data\n",
    "- Agents: Build a chatbot that can take actions\n",
    "\n",
    "This video tutorial will cover the basics which will be helpful for those two more advanced topics."
   ]
  },
  {
   "cell_type": "code",
   "execution_count": 116,
   "id": "373c5767",
   "metadata": {},
   "outputs": [],
   "source": [
    "import os\n",
    "from dotenv import load_dotenv\n",
    "load_dotenv()\n",
    "\n",
    "groq_api_key=os.getenv(\"GROQ_API_KEY\")"
   ]
  },
  {
   "cell_type": "code",
   "execution_count": 117,
   "id": "02e33993",
   "metadata": {},
   "outputs": [
    {
     "data": {
      "text/plain": [
       "ChatGroq(client=<groq.resources.chat.completions.Completions object at 0x000001A69CB44E90>, async_client=<groq.resources.chat.completions.AsyncCompletions object at 0x000001A69CCB8DD0>, model_name='gemma2-9b-it')"
      ]
     },
     "execution_count": 117,
     "metadata": {},
     "output_type": "execute_result"
    }
   ],
   "source": [
    "from langchain_groq import ChatGroq\n",
    "model =ChatGroq(model=\"gemma2-9b-it\")\n",
    "model"
   ]
  },
  {
   "cell_type": "code",
   "execution_count": 118,
   "id": "c274ab47",
   "metadata": {},
   "outputs": [
    {
     "data": {
      "text/plain": [
       "AIMessage(content=\"Hi Aswani!  \\n\\nThat's great to hear!  It sounds like you're passionate about AI engineering.  \\n\\nWhat are some of the things that excite you most about this field?  \\n\\nI'm always eager to learn more about what people find interesting about artificial intelligence. 😊\\n\", response_metadata={'token_usage': {'completion_tokens': 64, 'prompt_tokens': 25, 'total_tokens': 89, 'completion_time': 0.116363636, 'prompt_time': 0.00141719, 'queue_time': 0.25561158, 'total_time': 0.117780826}, 'model_name': 'gemma2-9b-it', 'system_fingerprint': 'fp_10c08bf97d', 'finish_reason': 'stop', 'logprobs': None}, id='run-5e3227b4-1135-4fa7-bb7b-3639d89d48b3-0', usage_metadata={'input_tokens': 25, 'output_tokens': 64, 'total_tokens': 89})"
      ]
     },
     "execution_count": 118,
     "metadata": {},
     "output_type": "execute_result"
    }
   ],
   "source": [
    "from langchain_core.messages import HumanMessage\n",
    "model.invoke([HumanMessage(content = \"Hi, My name is Aswani and i can be a nice Ai Engineer.\")])"
   ]
  },
  {
   "cell_type": "code",
   "execution_count": 119,
   "id": "ee7c5dc7",
   "metadata": {},
   "outputs": [
    {
     "data": {
      "text/plain": [
       "AIMessage(content=\"You told me your name is Aswani and that you're a good AI Engineer!  😊 \\n\\nIs there anything else you'd like to tell me about yourself?  \\n\", response_metadata={'token_usage': {'completion_tokens': 40, 'prompt_tokens': 131, 'total_tokens': 171, 'completion_time': 0.072727273, 'prompt_time': 0.0033884, 'queue_time': 0.25517598999999996, 'total_time': 0.076115673}, 'model_name': 'gemma2-9b-it', 'system_fingerprint': 'fp_10c08bf97d', 'finish_reason': 'stop', 'logprobs': None}, id='run-0e4df20e-a4d8-47f4-9e2b-3b7b84910c53-0', usage_metadata={'input_tokens': 131, 'output_tokens': 40, 'total_tokens': 171})"
      ]
     },
     "execution_count": 119,
     "metadata": {},
     "output_type": "execute_result"
    }
   ],
   "source": [
    "from langchain_core.messages import AIMessage\n",
    "model.invoke(\n",
    "    [\n",
    "        HumanMessage(content = \"Hi, My name is Aswani and i a good ai Engineer.\"),\n",
    "        AIMessage(content = \"Hi Aswani, it's nice to meet you!  \\n\\nIt's great to hear that you're interested in becoming an AI Engineer. It is a fascinating and rapidly growing field with lots of opportunities to make a real impact. What aspects of AI engineering are you most interested in? Do you have any experience or projects you've worked on already? I'd love to hear more about your journey!\\n\"),\n",
    "        HumanMessage(content=\"Hey What's my name and what do i do ?\")\n",
    "    ]\n",
    ")"
   ]
  },
  {
   "cell_type": "markdown",
   "id": "93c8b660",
   "metadata": {},
   "source": [
    "### Message History\n",
    "We can use a Message History class to wrap our model and make it stateful. This will keep track of inputs and outputs of the model, and store them in some datastore. Future interactions will then load those messages and pass them into the chain as part of the input. Let's see how to use this!"
   ]
  },
  {
   "cell_type": "code",
   "execution_count": 120,
   "id": "fae849dc",
   "metadata": {},
   "outputs": [],
   "source": [
    "from langchain_community.chat_message_histories import ChatMessageHistory\n",
    "from langchain_core.chat_history import BaseChatMessageHistory\n",
    "from langchain_core.runnables.history import RunnableWithMessageHistory\n",
    "\n",
    "# Defining a function to make sure that one session is completely different\n",
    "# from other session. its return type is basechatmessagehistory\n",
    "store = {}\n",
    "def get_session_history(session_id:str)->BaseChatMessageHistory:\n",
    "    if session_id not in store:\n",
    "        store[session_id] = ChatMessageHistory()\n",
    "    return store[session_id]\n",
    "\n",
    "with_message_history=RunnableWithMessageHistory(model,get_session_history)"
   ]
  },
  {
   "cell_type": "code",
   "execution_count": 121,
   "id": "2e947ded",
   "metadata": {},
   "outputs": [],
   "source": [
    "config = {\"configurable\":{\"session_id\": \"chat1\"}}"
   ]
  },
  {
   "cell_type": "code",
   "execution_count": 122,
   "id": "c26425b1",
   "metadata": {},
   "outputs": [],
   "source": [
    "response = with_message_history.invoke(\n",
    "    [HumanMessage(content=\"Hi, My name is Aswani and i am a good ai Engineer.\")],\n",
    "    config=config\n",
    ")"
   ]
  },
  {
   "cell_type": "code",
   "execution_count": 123,
   "id": "95f046c8",
   "metadata": {},
   "outputs": [
    {
     "data": {
      "text/plain": [
       "\"Hello Aswani, it's nice to meet you! That's great to hear that you're a good AI Engineer. \\n\\nWhat kind of AI work are you interested in? Maybe we can talk about some projects or challenges you're facing.  I'm always eager to learn from experienced AI professionals like yourself.\\n\""
      ]
     },
     "execution_count": 123,
     "metadata": {},
     "output_type": "execute_result"
    }
   ],
   "source": [
    "response.content"
   ]
  },
  {
   "cell_type": "code",
   "execution_count": 124,
   "id": "28367b4f",
   "metadata": {},
   "outputs": [
    {
     "data": {
      "text/plain": [
       "AIMessage(content='Your name is Aswani.  \\n\\nI remember that from our first interaction. 😊 \\n\\n', response_metadata={'token_usage': {'completion_tokens': 22, 'prompt_tokens': 109, 'total_tokens': 131, 'completion_time': 0.04, 'prompt_time': 0.00328246, 'queue_time': 0.25317598, 'total_time': 0.04328246}, 'model_name': 'gemma2-9b-it', 'system_fingerprint': 'fp_10c08bf97d', 'finish_reason': 'stop', 'logprobs': None}, id='run-bbf90d29-7ff4-4ba4-b5f4-852dcdeda488-0', usage_metadata={'input_tokens': 109, 'output_tokens': 22, 'total_tokens': 131})"
      ]
     },
     "execution_count": 124,
     "metadata": {},
     "output_type": "execute_result"
    }
   ],
   "source": [
    "with_message_history.invoke(\n",
    "    [HumanMessage(content=\"What's my name ?\")],\n",
    "    config=config\n",
    ")"
   ]
  },
  {
   "cell_type": "code",
   "execution_count": 125,
   "id": "c011f9af",
   "metadata": {},
   "outputs": [
    {
     "data": {
      "text/plain": [
       "\"As an AI, I have no memory of past conversations and do not know your name. If you'd like to tell me, I'd be happy to know! 😊\\n\""
      ]
     },
     "execution_count": 125,
     "metadata": {},
     "output_type": "execute_result"
    }
   ],
   "source": [
    "## change the config -->session id\n",
    "config1={\"configurable\":{\"session_id\":\"chat2\"}}\n",
    "response = with_message_history.invoke(\n",
    "    [HumanMessage(content=\"What's my name ?\")],\n",
    "    config=config1\n",
    ")\n",
    "\n",
    "response.content"
   ]
  },
  {
   "cell_type": "code",
   "execution_count": 126,
   "id": "5f7e70c8",
   "metadata": {},
   "outputs": [
    {
     "data": {
      "text/plain": [
       "AIMessage(content=\"Hi Kaite, it's nice to meet you! 😊  \\n\\nIs there anything I can help you with today?  \\n\", response_metadata={'token_usage': {'completion_tokens': 29, 'prompt_tokens': 67, 'total_tokens': 96, 'completion_time': 0.052727273, 'prompt_time': 0.002335281, 'queue_time': 0.25425238899999997, 'total_time': 0.055062554}, 'model_name': 'gemma2-9b-it', 'system_fingerprint': 'fp_10c08bf97d', 'finish_reason': 'stop', 'logprobs': None}, id='run-d8bccdfc-1453-4648-b34f-c93bafe57697-0', usage_metadata={'input_tokens': 67, 'output_tokens': 29, 'total_tokens': 96})"
      ]
     },
     "execution_count": 126,
     "metadata": {},
     "output_type": "execute_result"
    }
   ],
   "source": [
    "# Giving data to config1\n",
    "with_message_history.invoke(\n",
    "    [HumanMessage(content=\"My name is Kaite\")],\n",
    "    config=config1\n",
    ")"
   ]
  },
  {
   "cell_type": "code",
   "execution_count": 127,
   "id": "99df95e5",
   "metadata": {},
   "outputs": [
    {
     "data": {
      "text/plain": [
       "'Your name is Kaite.  😊 \\n\\nI remember! \\n\\nAnything else I can help you with?\\n'"
      ]
     },
     "execution_count": 127,
     "metadata": {},
     "output_type": "execute_result"
    }
   ],
   "source": [
    "## change the config -->session id\n",
    "config1={\"configurable\":{\"session_id\":\"chat2\"}}\n",
    "response = with_message_history.invoke(\n",
    "    [HumanMessage(content=\"What's my name ?\")],\n",
    "    config=config1\n",
    ")\n",
    "\n",
    "response.content"
   ]
  },
  {
   "cell_type": "markdown",
   "id": "bb0d68af",
   "metadata": {},
   "source": [
    "### Prompt templates\n",
    "Prompt Templates help to turn raw user information into a format that the LLM can work with. In this case, the raw user input is just a message, which we are passing to the LLM. Let's now make that a bit more complicated. First, let's add in a system message with some custom instructions (but still taking messages as input). Next, we'll add in more input besides just the messages."
   ]
  },
  {
   "cell_type": "code",
   "execution_count": 128,
   "id": "b48604dc",
   "metadata": {},
   "outputs": [],
   "source": [
    "from langchain_core.prompts import ChatPromptTemplate,MessagesPlaceholder\n",
    "prompt = ChatPromptTemplate.from_messages(\n",
    "    [\n",
    "        (\"system\",\"You are a best mental health Assistant. Help people to get rid of their mental stress and anxiety.\"),\n",
    "        MessagesPlaceholder(variable_name=\"messages\")\n",
    "    ]\n",
    ")\n",
    "\n",
    "chain = prompt|model"
   ]
  },
  {
   "cell_type": "code",
   "execution_count": 129,
   "id": "124e8461",
   "metadata": {},
   "outputs": [
    {
     "data": {
      "text/plain": [
       "AIMessage(content=\"Hi Aswani, it's nice to meet you! I understand you're looking for ways to manage your mental stress and anxiety. While I'm not a therapist or medical professional, I can offer some helpful strategies and resources. \\n\\nIt's important to remember that you're not alone in feeling this way, and there are many things you can do to feel better.  \\n\\nTo get started, could you tell me a little more about what's been causing you stress and anxiety?  Understanding your specific situation will help me give you more tailored advice. \\n\\nIn the meantime, here are a few general tips that might be helpful:\\n\\n* **Practice mindfulness:** Pay attention to the present moment without judgment. This can help you calm your mind and reduce racing thoughts. There are many mindfulness apps and guided meditations available.\\n* **Engage in physical activity:** Exercise has been shown to be effective in reducing stress and anxiety. Find something you enjoy, whether it's walking, running, dancing, or yoga.\\n* **Connect with others:** Spending time with loved ones can provide support and distraction from your worries.\\n* **Prioritize sleep:** When you're well-rested, you're better equipped to handle stress. Aim for 7-8 hours of sleep per night.\\n* **Limit caffeine and alcohol:** These substances can worsen anxiety symptoms.\\n* **Seek professional help:** If you're struggling to manage your stress and anxiety on your own, don't hesitate to reach out to a therapist or counselor. They can provide you with personalized support and guidance.\\n\\n\\nI'm here to listen and support you in any way I can.  Let's work together to find ways to help you feel better.\\n\", response_metadata={'token_usage': {'completion_tokens': 361, 'prompt_tokens': 36, 'total_tokens': 397, 'completion_time': 0.656363636, 'prompt_time': 0.00148164, 'queue_time': 0.25091171, 'total_time': 0.657845276}, 'model_name': 'gemma2-9b-it', 'system_fingerprint': 'fp_10c08bf97d', 'finish_reason': 'stop', 'logprobs': None}, id='run-db913062-c3f2-4fc3-8048-f6abdf72d8f3-0', usage_metadata={'input_tokens': 36, 'output_tokens': 361, 'total_tokens': 397})"
      ]
     },
     "execution_count": 129,
     "metadata": {},
     "output_type": "execute_result"
    }
   ],
   "source": [
    "chain.invoke({\"messages\":[HumanMessage(content=\"Hi My name is Aswani.\")]})"
   ]
  },
  {
   "cell_type": "code",
   "execution_count": 130,
   "id": "db85b2ed",
   "metadata": {},
   "outputs": [],
   "source": [
    "with_message_history=RunnableWithMessageHistory(chain,get_session_history)"
   ]
  },
  {
   "cell_type": "code",
   "execution_count": 131,
   "id": "55050c4d",
   "metadata": {},
   "outputs": [
    {
     "data": {
      "text/plain": [
       "AIMessage(content=\"Hi Aswani, it's nice to meet you. I understand you're looking for ways to manage stress and anxiety. While I can't provide medical advice, I can offer some helpful strategies and resources. \\n\\nIt's important to remember that you're not alone in this. Many people struggle with stress and anxiety, and there are effective ways to cope.\\n\\nTo help me understand your situation better, could you tell me a little more about:\\n\\n* **What are some of the things that cause you stress and anxiety?**\\n* **How long have you been experiencing these feelings?**\\n* **Have you tried any coping mechanisms in the past?**\\n\\n\\nOnce I have a better understanding of your needs, I can offer more personalized advice.  \\n\\nIn the meantime, here are some general tips that may be helpful:\\n\\n* **Practice mindfulness and relaxation techniques:** Deep breathing exercises, meditation, and yoga can help calm your mind and body.\\n* **Engage in regular physical activity:** Exercise releases endorphins, which have mood-boosting effects.\\n* **Prioritize sleep:** Aim for 7-9 hours of quality sleep per night.\\n* **Eat a healthy diet:** Nourishing your body with wholesome foods can improve your overall well-being.\\n* **Connect with loved ones:** Spending time with supportive people can provide comfort and reduce feelings of isolation.\\n* **Set realistic expectations:** Don't try to do too much at once. Break down tasks into smaller, manageable steps.\\n* **Learn to say no:** It's okay to decline requests if you're feeling overwhelmed.\\n* **Seek professional help:** If your stress and anxiety are severe or interfering with your daily life, don't hesitate to reach out to a therapist or counselor.\\n\\n\\nRemember, taking care of your mental health is essential. Be kind to yourself, and don't hesitate to ask for help when you need it.\\n\", response_metadata={'token_usage': {'completion_tokens': 402, 'prompt_tokens': 35, 'total_tokens': 437, 'completion_time': 0.730909091, 'prompt_time': 0.00150985, 'queue_time': 0.250533626, 'total_time': 0.732418941}, 'model_name': 'gemma2-9b-it', 'system_fingerprint': 'fp_10c08bf97d', 'finish_reason': 'stop', 'logprobs': None}, id='run-ee5c4619-9f82-4be0-a2ee-63f77fafc6b4-0', usage_metadata={'input_tokens': 35, 'output_tokens': 402, 'total_tokens': 437})"
      ]
     },
     "execution_count": 131,
     "metadata": {},
     "output_type": "execute_result"
    }
   ],
   "source": [
    "config = {\"configurable\": {\"session_id\":\"chat3\"}}\n",
    "response=with_message_history.invoke(\n",
    "    [HumanMessage(content=\"Hi My name is aswani\")],\n",
    "    config=config\n",
    ")\n",
    "\n",
    "response"
   ]
  },
  {
   "cell_type": "code",
   "execution_count": 132,
   "id": "1eaa095a",
   "metadata": {},
   "outputs": [],
   "source": [
    "## Add more complexity\n",
    "\n",
    "prompt = ChatPromptTemplate.from_messages(\n",
    "    [\n",
    "        (\"system\",\n",
    "         \"You are a best mental health Assistant. Help people to get rid of their mental stress and anxiety in {language}.\"),\n",
    "        MessagesPlaceholder(variable_name=\"messages\")\n",
    "    ]\n",
    ")\n",
    "\n",
    "chain = prompt|model"
   ]
  },
  {
   "cell_type": "code",
   "execution_count": 133,
   "id": "01ef46a6",
   "metadata": {},
   "outputs": [
    {
     "data": {
      "text/plain": [
       "'Namaste Aswani, \\n\\nमुझे खुशी है कि आप मेरे पास आये हैं। तनाव और चिंता बहुत आम समस्या है, और आप अकेले नहीं हैं। मैं आपकी मदद करने के लिए यहाँ हूँ। \\n\\nआपके तनाव और चिंता को दूर करने में मैं कुछ चीजें कर सकता हूँ:\\n\\n* **शांत और ध्यान करने के व्यायाम:** मैं आपको सरल और प्रभावी ध्यान और गहरी सांस लेने के व्यायाम सिखा सकता हूँ जो तुरंत आपको आराम दिला सकते हैं।\\n* **आत्म-चिंतन:** मैं आपको आपके विचारों और भावनाओं को समझने में मदद कर सकता हूँ और उनसे निपटने के स्वस्थ तरीके खोजने में।\\n* **तनाव प्रबंधन तकनीकें:** मैं आपको तनावपूर्ण परिस्थितियों से निपटने के लिए उपयोगी उपकरण और रणनीतियाँ सिखा सकता हूँ।\\n* **पॉजिटिव सोच:** मैं आपको अपने विचारों को अधिक सकारात्मक और आशावादी बनाने में मदद कर सकता हूँ।\\n* **सहायक संसाधन:** मैं आपको मानसिक स्वास्थ्य सेवा प्रदाताओं, समर्थन समूहों और अन्य उपयोगी संसाधनों के बारे में जानकारी प्रदान कर सकता हूँ।\\n\\nआपको किस तरह की मदद की ज़रूरत है? क्या आप किसी विशेष चिंता या तनाव के बारे में बात करना चाहेंगे? \\n\\nमुझे बताएं, और मैं आपकी सहायता करने के लिए हर संभव प्रयास करूँगा।\\n\\n'"
      ]
     },
     "execution_count": 133,
     "metadata": {},
     "output_type": "execute_result"
    }
   ],
   "source": [
    "response=chain.invoke({\"messages\":[HumanMessage(content=\"Hi my name is aswani\")],\"language\":\"Hindi\"})\n",
    "response.content"
   ]
  },
  {
   "cell_type": "markdown",
   "id": "0705043d",
   "metadata": {},
   "source": [
    "Let's now wrap this more complicated chain in a Message History class. This time, because there are multiple keys in the input, we need to specify the correct key to use to save the chat history."
   ]
  },
  {
   "cell_type": "code",
   "execution_count": 134,
   "id": "02e414fa",
   "metadata": {},
   "outputs": [],
   "source": [
    "with_message_history=RunnableWithMessageHistory(\n",
    "    chain,\n",
    "    get_session_history,\n",
    "    input_messages_key=\"messages\"\n",
    ")"
   ]
  },
  {
   "cell_type": "code",
   "execution_count": 135,
   "id": "a0315d2a",
   "metadata": {},
   "outputs": [
    {
     "data": {
      "text/plain": [
       "'नमस्ते अश्वनी, \\n\\nमुझे बहुत खुशी है कि आप यहाँ हैं! मैं आपकी मदद करने के लिए यहाँ हूँ। तनाव और चिंता हर किसी के जीवन में आते हैं, लेकिन वे हमारे स्वास्थ्य और कल्याण को प्रभावित कर सकते हैं।  \\n\\nआपको अपनी चिंता और तनाव के बारे में बताएं, ताकि मैं आपकी स्थिति को बेहतर समझ सकूं और आपको मदद करने के लिए कुछ कारगर सुझाव दे सकूं। \\n\\nयहाँ कुछ सामान्य तरीके हैं जो तनाव और चिंता को कम करने में मदद कर सकते हैं:\\n\\n* **ध्यान और गहरी साँस लेने की तकनीकें:** \\n   ध्यान और गहरी साँस लेने से आपके मन को शांत करने और तनाव के हार्मोन को कम करने में मदद मिल सकती है। \\n\\n* **नियमित व्यायाम:** \\n   व्यायाम शरीर और मन दोनों को तनाव से राहत दिला सकता है। \\n\\n* **पर्याप्त नींद:** \\n   जब आप पर्याप्त नींद लेते हैं, तो आप तनाव का बेहतर सामना कर सकते हैं। \\n\\n* **स्वस्थ आहार:** \\n   एक संतुलित आहार आपको ऊर्जावान और तनाव के प्रति अधिक प्रतिरोधी बनाता है।\\n\\n* **समय प्रबंधन:** \\n   अपने समय का प्रभावी ढंग से प्रबंधन करना आपको अधिक नियंत्रण महसूस करा सकता है और तनाव को कम करने में मदद कर सकता है। \\n\\n* **अपने प्रियजनों के साथ समय बिताएं:** \\n   सामाजिक संपर्क तनाव को कम करने और मनोबल को बढ़ाने में मदद करता है।\\n\\n* **मनोरंजन के लिए समय निकालें:** \\n   अपने शौक का आनंद लें और उन गतिविधियों में शामिल हों जो आपको पसंद हैं।\\n\\n\\nअश्वनी, कृपया ध्यान रखें कि आप अकेले नहीं हैं, और मदद उपलब्ध है। यदि आपको लगातार तनाव और चिंता का सामना करना पड़ रहा है, तो कृपया किसी मानसिक स्वास्थ्य पेशेवर से सहायता लें।\\n'"
      ]
     },
     "execution_count": 135,
     "metadata": {},
     "output_type": "execute_result"
    }
   ],
   "source": [
    "config2 = {\"configurable\": {\"session_id\":\"chat4\"}}\n",
    "response = with_message_history.invoke(\n",
    "    {\"messages\": [HumanMessage(content=\"hi, i am aswani\")],\"language\":\"Hindi\"},\n",
    "    config=config2\n",
    ")\n",
    "response.content"
   ]
  },
  {
   "cell_type": "code",
   "execution_count": 136,
   "id": "66d938d8",
   "metadata": {},
   "outputs": [
    {
     "data": {
      "text/plain": [
       "'Dein Name ist Aswani. 😊 \\n\\nHast du noch Fragen für mich? \\n'"
      ]
     },
     "execution_count": 136,
     "metadata": {},
     "output_type": "execute_result"
    }
   ],
   "source": [
    "response = with_message_history.invoke(\n",
    "    {\"messages\": [HumanMessage(content=\"whats my name is ?\")],\"language\":\"german\"},\n",
    "    config=config2\n",
    ")\n",
    "response.content"
   ]
  },
  {
   "cell_type": "markdown",
   "id": "a31f8898",
   "metadata": {},
   "source": [
    "### Managing the Conversation History\n",
    "One important concept to understand when building chatbots is how to manage conversation history. If left unmanaged, the list of messages will grow unbounded and potentially overflow the context window of the LLM. Therefore, it is important to add a step that limits the size of the messages you are passing in.\n",
    "'trim_messages' helper to reduce how many messages we're sending to the model. The trimmer allows us to specify how many tokens we want to keep, along with other parameters like if we want to always keep the system message and whether to allow partial messages"
   ]
  },
  {
   "cell_type": "code",
   "execution_count": 137,
   "id": "422c8c9e",
   "metadata": {},
   "outputs": [
    {
     "data": {
      "text/plain": [
       "[SystemMessage(content=\"you're a good assistant\"),\n",
       " HumanMessage(content='I like vanilla ice cream'),\n",
       " AIMessage(content='nice'),\n",
       " HumanMessage(content='whats 2 + 2'),\n",
       " AIMessage(content='4'),\n",
       " HumanMessage(content='thanks'),\n",
       " AIMessage(content='no problem!'),\n",
       " HumanMessage(content='having fun?'),\n",
       " AIMessage(content='yes!')]"
      ]
     },
     "execution_count": 137,
     "metadata": {},
     "output_type": "execute_result"
    }
   ],
   "source": [
    "from langchain_core.messages import SystemMessage,trim_messages\n",
    "trimmer = trim_messages(\n",
    "    max_tokens = 45,\n",
    "    strategy = \"last\",\n",
    "    token_counter = model,\n",
    "    include_system = True,\n",
    "    allow_partial = True,\n",
    "    start_on = \"human\"\n",
    ")\n",
    "messages = [\n",
    "    SystemMessage(content=\"you're a good assistant\"),\n",
    "    HumanMessage(content=\"hi! I'm bob\"),\n",
    "    AIMessage(content=\"hi!\"),\n",
    "    HumanMessage(content=\"I like vanilla ice cream\"),\n",
    "    AIMessage(content=\"nice\"),\n",
    "    HumanMessage(content=\"whats 2 + 2\"),\n",
    "    AIMessage(content=\"4\"),\n",
    "    HumanMessage(content=\"thanks\"),\n",
    "    AIMessage(content=\"no problem!\"),\n",
    "    HumanMessage(content=\"having fun?\"),\n",
    "    AIMessage(content=\"yes!\"),\n",
    "]\n",
    "trimmer.invoke(messages)"
   ]
  },
  {
   "cell_type": "code",
   "execution_count": 138,
   "id": "9701dbee",
   "metadata": {},
   "outputs": [
    {
     "data": {
      "text/plain": [
       "\"As a helpful AI, I don't have access to your personal information, like your favorite ice cream flavor. 🍦\\n\\nWhat's YOUR favorite flavor?  Maybe I can tell you some fun facts about it! 😊\\n\""
      ]
     },
     "execution_count": 138,
     "metadata": {},
     "output_type": "execute_result"
    }
   ],
   "source": [
    "from operator import itemgetter\n",
    "\n",
    "from langchain_core.runnables import RunnablePassthrough\n",
    "\n",
    "chain=(\n",
    "    RunnablePassthrough.assign(messages=itemgetter(\"messages\")|trimmer)\n",
    "    | prompt\n",
    "    | model\n",
    ")\n",
    "response=chain.invoke(\n",
    "    {\n",
    "        \"messages\":messages + [HumanMessage(content=\"What ice cream do i like ?\")],\n",
    "    \"language\":\"English\"\n",
    "    }\n",
    ")\n",
    "response.content"
   ]
  },
  {
   "cell_type": "code",
   "execution_count": 139,
   "id": "49070254",
   "metadata": {},
   "outputs": [
    {
     "data": {
      "text/plain": [
       "'You asked me \"What\\'s 2 + 2?\".  😊  \\n\\n\\nIs there anything else I can help you with? I\\'m here to chat and offer support if you need it.\\n'"
      ]
     },
     "execution_count": 139,
     "metadata": {},
     "output_type": "execute_result"
    }
   ],
   "source": [
    "response = chain.invoke(\n",
    "    {\n",
    "        \"messages\":messages + [HumanMessage(content=\"What math problem did i asked to you ?\")],\n",
    "        \"language\": \"English\"\n",
    "    }\n",
    ")\n",
    "response.content"
   ]
  },
  {
   "cell_type": "code",
   "execution_count": 140,
   "id": "3fdcb2d2",
   "metadata": {},
   "outputs": [],
   "source": [
    "## Lets wrap this in the MEssage History\n",
    "with_message_history = RunnableWithMessageHistory(\n",
    "    chain,\n",
    "    get_session_history,\n",
    "    input_messages_key=\"messages\",\n",
    ")\n",
    "config5={\"configurable\": {\"session_id\":\"chat5\"}}\n"
   ]
  },
  {
   "cell_type": "code",
   "execution_count": 141,
   "id": "75fb9684",
   "metadata": {},
   "outputs": [
    {
     "data": {
      "text/plain": [
       "\"It's great that you're reaching out for help! \\n\\nWhile I can offer support and information, remember that I'm not a therapist or medical professional. If you're struggling with mental stress and anxiety, please consider talking to a human counselor or doctor.\\n\\nTo help you manage stress and anxiety, I can offer some strategies:\\n\\n* **Deep Breathing:**  Try inhaling slowly for a count of 4, holding for 4, and exhaling for 4. Repeat this several times.\\n* **Mindfulness:** Pay attention to the present moment without judgment. Notice your thoughts, feelings, and sensations without getting carried away by them.\\n* **Exercise:** Physical activity can release endorphins, which have mood-boosting effects. Aim for at least 30 minutes of moderate-intensity exercise most days of the week.\\n* **Healthy Diet:** Eat a balanced diet with plenty of fruits, vegetables, and whole grains. Avoid processed foods, sugary drinks, and excessive caffeine.\\n* **Sleep:** Aim for 7-9 hours of quality sleep each night.\\n\\n**As for your name, I don't have access to that information.** \\n\\nIf you'd like to share it, I'm happy to use it. Otherwise, you can just call me your AI assistant.\\n\\nRemember, you're not alone, and help is available. \\n\\nPlease take care of yourself.\\n\""
      ]
     },
     "execution_count": 141,
     "metadata": {},
     "output_type": "execute_result"
    }
   ],
   "source": [
    "response = with_message_history.invoke(\n",
    "    {\"messages\": [HumanMessage(content=\"whats my name is ?\")],\n",
    "     \"language\":\"English\"},\n",
    "    config=config5\n",
    ")\n",
    "response.content"
   ]
  },
  {
   "cell_type": "code",
   "execution_count": null,
   "id": "ed578342",
   "metadata": {},
   "outputs": [],
   "source": []
  }
 ],
 "metadata": {
  "kernelspec": {
   "display_name": "venv",
   "language": "python",
   "name": "python3"
  },
  "language_info": {
   "codemirror_mode": {
    "name": "ipython",
    "version": 3
   },
   "file_extension": ".py",
   "mimetype": "text/x-python",
   "name": "python",
   "nbconvert_exporter": "python",
   "pygments_lexer": "ipython3",
   "version": "3.11.13"
  }
 },
 "nbformat": 4,
 "nbformat_minor": 5
}
