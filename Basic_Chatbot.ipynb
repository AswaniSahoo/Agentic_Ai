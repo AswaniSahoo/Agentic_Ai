{
 "cells": [
  {
   "cell_type": "markdown",
   "id": "4f762f6f",
   "metadata": {},
   "source": [
    "## Building A Chatbot\n",
    "In this video We'll go over an example of how to design and implement an LLM-powered chatbot. This chatbot will be able to have a conversation and remember previous interactions.\n",
    "\n",
    "Note that this chatbot that we build will only use the language model to have a conversation. There are several other related concepts that you may be looking for:\n",
    "\n",
    "- Conversational RAG: Enable a chatbot experience over an external source of data\n",
    "- Agents: Build a chatbot that can take actions\n",
    "\n",
    "This video tutorial will cover the basics which will be helpful for those two more advanced topics."
   ]
  },
  {
   "cell_type": "code",
   "execution_count": 1,
   "id": "373c5767",
   "metadata": {},
   "outputs": [],
   "source": [
    "import os\n",
    "from dotenv import load_dotenv\n",
    "load_dotenv()\n",
    "\n",
    "groq_api_key=os.getenv(\"GROQ_API_KEY\")"
   ]
  },
  {
   "cell_type": "code",
   "execution_count": 2,
   "id": "02e33993",
   "metadata": {},
   "outputs": [
    {
     "data": {
      "text/plain": [
       "ChatGroq(client=<groq.resources.chat.completions.Completions object at 0x000002264A717E90>, async_client=<groq.resources.chat.completions.AsyncCompletions object at 0x000002264A8855D0>, model_name='gemma2-9b-it')"
      ]
     },
     "execution_count": 2,
     "metadata": {},
     "output_type": "execute_result"
    }
   ],
   "source": [
    "from langchain_groq import ChatGroq\n",
    "model =ChatGroq(model=\"gemma2-9b-it\")\n",
    "model"
   ]
  },
  {
   "cell_type": "code",
   "execution_count": 3,
   "id": "c274ab47",
   "metadata": {},
   "outputs": [
    {
     "data": {
      "text/plain": [
       "AIMessage(content=\"Hi Aswani, it's nice to meet you!  \\n\\nThat's great to hear you're interested in becoming an AI Engineer. It's a fascinating and growing field with lots of opportunities to make a real impact.  \\n\\nWhat are some of the things that interest you most about AI engineering?  Perhaps we could chat about some of the challenges and rewards of the profession.\\n\", response_metadata={'token_usage': {'completion_tokens': 83, 'prompt_tokens': 25, 'total_tokens': 108, 'completion_time': 0.150909091, 'prompt_time': 0.00140043, 'queue_time': 0.258884219, 'total_time': 0.152309521}, 'model_name': 'gemma2-9b-it', 'system_fingerprint': 'fp_10c08bf97d', 'finish_reason': 'stop', 'logprobs': None}, id='run-09c0b025-7417-4630-9806-7139e3a9ba5a-0', usage_metadata={'input_tokens': 25, 'output_tokens': 83, 'total_tokens': 108})"
      ]
     },
     "execution_count": 3,
     "metadata": {},
     "output_type": "execute_result"
    }
   ],
   "source": [
    "from langchain_core.messages import HumanMessage\n",
    "model.invoke([HumanMessage(content = \"Hi, My name is Aswani and i can be a nice Ai Engineer.\")])"
   ]
  },
  {
   "cell_type": "code",
   "execution_count": 4,
   "id": "ee7c5dc7",
   "metadata": {},
   "outputs": [
    {
     "data": {
      "text/plain": [
       "AIMessage(content=\"You told me your name is Aswani and that you are a good AI Engineer!  😊  \\n\\nIs there anything else you'd like to tell me about yourself or discuss regarding AI?  I'm here to chat. \\n\", response_metadata={'token_usage': {'completion_tokens': 51, 'prompt_tokens': 131, 'total_tokens': 182, 'completion_time': 0.092727273, 'prompt_time': 0.003363412, 'queue_time': 0.257335818, 'total_time': 0.096090685}, 'model_name': 'gemma2-9b-it', 'system_fingerprint': 'fp_10c08bf97d', 'finish_reason': 'stop', 'logprobs': None}, id='run-2071d432-b753-4614-b788-9431b5314c86-0', usage_metadata={'input_tokens': 131, 'output_tokens': 51, 'total_tokens': 182})"
      ]
     },
     "execution_count": 4,
     "metadata": {},
     "output_type": "execute_result"
    }
   ],
   "source": [
    "from langchain_core.messages import AIMessage\n",
    "model.invoke(\n",
    "    [\n",
    "        HumanMessage(content = \"Hi, My name is Aswani and i a good ai Engineer.\"),\n",
    "        AIMessage(content = \"Hi Aswani, it's nice to meet you!  \\n\\nIt's great to hear that you're interested in becoming an AI Engineer. It is a fascinating and rapidly growing field with lots of opportunities to make a real impact. What aspects of AI engineering are you most interested in? Do you have any experience or projects you've worked on already? I'd love to hear more about your journey!\\n\"),\n",
    "        HumanMessage(content=\"Hey What's my name and what do i do ?\")\n",
    "    ]\n",
    ")"
   ]
  },
  {
   "cell_type": "markdown",
   "id": "93c8b660",
   "metadata": {},
   "source": [
    "### Message History\n",
    "We can use a Message History class to wrap our model and make it stateful. This will keep track of inputs and outputs of the model, and store them in some datastore. Future interactions will then load those messages and pass them into the chain as part of the input. Let's see how to use this!"
   ]
  },
  {
   "cell_type": "code",
   "execution_count": 5,
   "id": "fae849dc",
   "metadata": {},
   "outputs": [],
   "source": [
    "from langchain_community.chat_message_histories import ChatMessageHistory\n",
    "from langchain_core.chat_history import BaseChatMessageHistory\n",
    "from langchain_core.runnables.history import RunnableWithMessageHistory\n",
    "\n",
    "# Defining a function to make sure that one session is completely different\n",
    "# from other session. its return type is basechatmessagehistory\n",
    "store = {}\n",
    "def get_session_history(session_id:str)->BaseChatMessageHistory:\n",
    "    if session_id not in store:\n",
    "        store[session_id] = ChatMessageHistory()\n",
    "    return store[session_id]\n",
    "\n",
    "with_message_history=RunnableWithMessageHistory(model,get_session_history)"
   ]
  },
  {
   "cell_type": "code",
   "execution_count": 6,
   "id": "2e947ded",
   "metadata": {},
   "outputs": [],
   "source": [
    "config = {\"configurable\":{\"session_id\": \"chat1\"}}"
   ]
  },
  {
   "cell_type": "code",
   "execution_count": 7,
   "id": "c26425b1",
   "metadata": {},
   "outputs": [],
   "source": [
    "response = with_message_history.invoke(\n",
    "    [HumanMessage(content=\"Hi, My name is Aswani and i am a good ai Engineer.\")],\n",
    "    config=config\n",
    ")"
   ]
  },
  {
   "cell_type": "code",
   "execution_count": 8,
   "id": "95f046c8",
   "metadata": {},
   "outputs": [
    {
     "data": {
      "text/plain": [
       "\"Hi Aswani, it's nice to meet you! That's great to hear that you're a good AI Engineer. \\n\\nWhat kind of AI work do you do?  I'm always interested in learning more about what people are building with AI.\\n\""
      ]
     },
     "execution_count": 8,
     "metadata": {},
     "output_type": "execute_result"
    }
   ],
   "source": [
    "response.content"
   ]
  },
  {
   "cell_type": "code",
   "execution_count": 9,
   "id": "28367b4f",
   "metadata": {},
   "outputs": [
    {
     "data": {
      "text/plain": [
       "AIMessage(content='Your name is Aswani.  \\n\\nI remember that from our introduction! 😊  Is there anything else I can help you with?\\n', response_metadata={'token_usage': {'completion_tokens': 30, 'prompt_tokens': 96, 'total_tokens': 126, 'completion_time': 0.054545455, 'prompt_time': 0.002725771, 'queue_time': 0.255119459, 'total_time': 0.057271226}, 'model_name': 'gemma2-9b-it', 'system_fingerprint': 'fp_10c08bf97d', 'finish_reason': 'stop', 'logprobs': None}, id='run-e7203e91-305e-478f-bdf0-cc6f8b1f979e-0', usage_metadata={'input_tokens': 96, 'output_tokens': 30, 'total_tokens': 126})"
      ]
     },
     "execution_count": 9,
     "metadata": {},
     "output_type": "execute_result"
    }
   ],
   "source": [
    "with_message_history.invoke(\n",
    "    [HumanMessage(content=\"What's my name ?\")],\n",
    "    config=config\n",
    ")"
   ]
  },
  {
   "cell_type": "code",
   "execution_count": 10,
   "id": "c011f9af",
   "metadata": {},
   "outputs": [
    {
     "data": {
      "text/plain": [
       "\"As an AI, I have no memory of past conversations and do not know your name. If you'd like to tell me, I'd be happy to use it! 😊\\n\""
      ]
     },
     "execution_count": 10,
     "metadata": {},
     "output_type": "execute_result"
    }
   ],
   "source": [
    "## change the config -->session id\n",
    "config1={\"configurable\":{\"session_id\":\"chat2\"}}\n",
    "response = with_message_history.invoke(\n",
    "    [HumanMessage(content=\"What's my name ?\")],\n",
    "    config=config1\n",
    ")\n",
    "\n",
    "response.content"
   ]
  },
  {
   "cell_type": "code",
   "execution_count": 11,
   "id": "5f7e70c8",
   "metadata": {},
   "outputs": [
    {
     "data": {
      "text/plain": [
       "AIMessage(content=\"Hi Kaite! It's nice to meet you.  What can I do for you today? 😊  \\n\", response_metadata={'token_usage': {'completion_tokens': 26, 'prompt_tokens': 68, 'total_tokens': 94, 'completion_time': 0.047272727, 'prompt_time': 0.002280881, 'queue_time': 0.252624369, 'total_time': 0.049553608}, 'model_name': 'gemma2-9b-it', 'system_fingerprint': 'fp_10c08bf97d', 'finish_reason': 'stop', 'logprobs': None}, id='run-89518427-7999-4652-8d12-42c61bf7b120-0', usage_metadata={'input_tokens': 68, 'output_tokens': 26, 'total_tokens': 94})"
      ]
     },
     "execution_count": 11,
     "metadata": {},
     "output_type": "execute_result"
    }
   ],
   "source": [
    "# Giving data to config1\n",
    "with_message_history.invoke(\n",
    "    [HumanMessage(content=\"My name is Kaite\")],\n",
    "    config=config1\n",
    ")"
   ]
  },
  {
   "cell_type": "code",
   "execution_count": 12,
   "id": "99df95e5",
   "metadata": {},
   "outputs": [
    {
     "data": {
      "text/plain": [
       "'Your name is Kaite!  I remember now. 😊  \\n\\nIs there anything else I can help you with?\\n'"
      ]
     },
     "execution_count": 12,
     "metadata": {},
     "output_type": "execute_result"
    }
   ],
   "source": [
    "## change the config -->session id\n",
    "config1={\"configurable\":{\"session_id\":\"chat2\"}}\n",
    "response = with_message_history.invoke(\n",
    "    [HumanMessage(content=\"What's my name ?\")],\n",
    "    config=config1\n",
    ")\n",
    "\n",
    "response.content"
   ]
  },
  {
   "cell_type": "markdown",
   "id": "bb0d68af",
   "metadata": {},
   "source": [
    "### Prompt templates\n",
    "Prompt Templates help to turn raw user information into a format that the LLM can work with. In this case, the raw user input is just a message, which we are passing to the LLM. Let's now make that a bit more complicated. First, let's add in a system message with some custom instructions (but still taking messages as input). Next, we'll add in more input besides just the messages."
   ]
  },
  {
   "cell_type": "code",
   "execution_count": 13,
   "id": "b48604dc",
   "metadata": {},
   "outputs": [],
   "source": [
    "from langchain_core.prompts import ChatPromptTemplate,MessagesPlaceholder\n",
    "prompt = ChatPromptTemplate.from_messages(\n",
    "    [\n",
    "        (\"system\",\"You are a best mental health Assistant. Help people to get rid of their mental stress and anxiety.\"),\n",
    "        MessagesPlaceholder(variable_name=\"messages\")\n",
    "    ]\n",
    ")\n",
    "\n",
    "chain = prompt|model"
   ]
  },
  {
   "cell_type": "code",
   "execution_count": 14,
   "id": "124e8461",
   "metadata": {},
   "outputs": [
    {
     "data": {
      "text/plain": [
       "AIMessage(content=\"Hi Aswani, it's great to meet you. I'm here to help you manage your mental stress and anxiety. \\n\\nRemember, I'm not a human therapist and can't provide medical advice. But, I can offer support, information, and techniques that people find helpful.\\n\\nTo start, tell me a little about what's been causing you stress and anxiety lately. \\n\\nThe more specific you are, the better I can understand your situation and offer relevant support. For example, you could tell me about:\\n\\n* **Specific events or situations** that are causing you worry\\n* **Physical symptoms** you're experiencing (e.g., racing heart, difficulty sleeping)\\n* **Thought patterns** you've noticed (e.g., constantly worrying, negative self-talk)\\n* **Coping mechanisms** you've tried so far \\n\\nI'm here to listen without judgment and help you explore ways to feel better.  We can work together on this! 😊  \\n\\n\", response_metadata={'token_usage': {'completion_tokens': 213, 'prompt_tokens': 36, 'total_tokens': 249, 'completion_time': 0.387272727, 'prompt_time': 0.00147669, 'queue_time': 0.257012599, 'total_time': 0.388749417}, 'model_name': 'gemma2-9b-it', 'system_fingerprint': 'fp_10c08bf97d', 'finish_reason': 'stop', 'logprobs': None}, id='run-35220b2c-c203-40a5-bae2-edc2e8c8c936-0', usage_metadata={'input_tokens': 36, 'output_tokens': 213, 'total_tokens': 249})"
      ]
     },
     "execution_count": 14,
     "metadata": {},
     "output_type": "execute_result"
    }
   ],
   "source": [
    "chain.invoke({\"messages\":[HumanMessage(content=\"Hi My name is Aswani.\")]})"
   ]
  },
  {
   "cell_type": "code",
   "execution_count": 15,
   "id": "db85b2ed",
   "metadata": {},
   "outputs": [],
   "source": [
    "with_message_history=RunnableWithMessageHistory(chain,get_session_history)"
   ]
  },
  {
   "cell_type": "code",
   "execution_count": 16,
   "id": "55050c4d",
   "metadata": {},
   "outputs": [
    {
     "data": {
      "text/plain": [
       "AIMessage(content=\"Hi Aswani, it's nice to meet you. I understand you're looking for help with mental stress and anxiety. While I'm not a therapist or medical professional, I can offer some strategies and support that might be helpful.  \\n\\nRemember, I'm here to listen and offer guidance, but if your struggles are severe or persistent, please reach out to a qualified mental health professional. \\n\\nTo get started, tell me a little more about what you're experiencing. \\n\\n* **What are some of the specific things that are causing you stress and anxiety?**\\n* **How long have you been feeling this way?**\\n* **Have you tried any coping mechanisms already?**\\n\\nThe more information you share, the better I can understand your situation and offer relevant advice.  \\n\\nHere are some general tips that may be helpful in the meantime:\\n\\n* **Practice mindfulness:** Pay attention to the present moment without judgment. Try deep breathing exercises or meditation.\\n* **Engage in physical activity:** Exercise releases endorphins, which have mood-boosting effects.\\n* **Connect with others:** Spending time with loved ones can provide support and distraction.\\n* **Prioritize sleep:** Aim for 7-9 hours of quality sleep per night.\\n* **Limit caffeine and alcohol:** These substances can worsen anxiety symptoms.\\n* **Practice self-care:** Engage in activities that bring you joy and relaxation.\\n\\n\\nI'm here for you, Aswani. Let's work together to find ways to manage your stress and anxiety.\\n\", response_metadata={'token_usage': {'completion_tokens': 322, 'prompt_tokens': 35, 'total_tokens': 357, 'completion_time': 0.585454545, 'prompt_time': 0.001474731, 'queue_time': 0.252136938, 'total_time': 0.586929276}, 'model_name': 'gemma2-9b-it', 'system_fingerprint': 'fp_10c08bf97d', 'finish_reason': 'stop', 'logprobs': None}, id='run-553c3443-7b1b-4f0a-8cef-51843879d3b0-0', usage_metadata={'input_tokens': 35, 'output_tokens': 322, 'total_tokens': 357})"
      ]
     },
     "execution_count": 16,
     "metadata": {},
     "output_type": "execute_result"
    }
   ],
   "source": [
    "config = {\"configurable\": {\"session_id\":\"chat3\"}}\n",
    "response=with_message_history.invoke(\n",
    "    [HumanMessage(content=\"Hi My name is aswani\")],\n",
    "    config=config\n",
    ")\n",
    "\n",
    "response"
   ]
  },
  {
   "cell_type": "code",
   "execution_count": 17,
   "id": "1eaa095a",
   "metadata": {},
   "outputs": [],
   "source": [
    "## Add more complexity\n",
    "\n",
    "prompt = ChatPromptTemplate.from_messages(\n",
    "    [\n",
    "        (\"system\",\n",
    "         \"You are a best mental health Assistant. Help people to get rid of their mental stress and anxiety in {language}.\"),\n",
    "        MessagesPlaceholder(variable_name=\"messages\")\n",
    "    ]\n",
    ")\n",
    "\n",
    "chain = prompt|model"
   ]
  },
  {
   "cell_type": "code",
   "execution_count": 18,
   "id": "01ef46a6",
   "metadata": {},
   "outputs": [
    {
     "data": {
      "text/plain": [
       "'नमस्ते आश्वनी! \\n\\nयह सुनकर अच्छा लगा कि आप मुझसे मदद लेने के लिए आए हैं। तनाव और चिंता से जूझना आसान नहीं होता, लेकिन आप अकेले नहीं हैं। बहुत से लोग इन समस्याओं का सामना करते हैं, और मदद लेना एक बड़ी ताकत है। \\n\\nमुझे बताओ, आश्वनी, आप किस तरह का तनाव और चिंता का अनुभव कर रहे हैं? क्या कोई खास घटना हुई है, या यह लगातार चल रहा है? \\n\\nमुझे आपके अनुभवों को समझने में मदद करने के लिए कुछ सवाल पूछना चाहूंगा। \\n\\nअपनी बात साझा करने से आपको राहत मिल सकती है, और हम मिलकर कुछ उपाय खोज सकते हैं। \\n\\n'"
      ]
     },
     "execution_count": 18,
     "metadata": {},
     "output_type": "execute_result"
    }
   ],
   "source": [
    "response=chain.invoke({\"messages\":[HumanMessage(content=\"Hi my name is aswani\")],\"language\":\"Hindi\"})\n",
    "response.content"
   ]
  },
  {
   "cell_type": "markdown",
   "id": "0705043d",
   "metadata": {},
   "source": [
    "Let's now wrap this more complicated chain in a Message History class. This time, because there are multiple keys in the input, we need to specify the correct key to use to save the chat history."
   ]
  },
  {
   "cell_type": "code",
   "execution_count": 19,
   "id": "02e414fa",
   "metadata": {},
   "outputs": [],
   "source": [
    "with_message_history=RunnableWithMessageHistory(\n",
    "    chain,\n",
    "    get_session_history,\n",
    "    input_messages_key=\"messages\"\n",
    ")"
   ]
  },
  {
   "cell_type": "code",
   "execution_count": 20,
   "id": "a0315d2a",
   "metadata": {},
   "outputs": [
    {
     "data": {
      "text/plain": [
       "'Namaste Aswani, 😊 \\n\\nMujhe khush hota hai ki aap yahan hain!  Main aapka mental health assistant hoon aur aapke stress aur anxiety ko kam karne mein aapka saath dene ke liye taiyar hoon.\\n\\nKya aap mujhe bata sakte hain ki aap kya jaanana chahte hain?  \\n\\nYa phir aap kya khayal kar rahe hain jo aapko stress aur anxiety dikha raha hai? \\n\\nYaad rakhein, aap akele nahi hain.  Bahut saare log aise hi hisaab rakhte hain.  Hamari baat karenge aur aapko achha lagne mein madad karne ki koshish karungi. 💪 \\n\\n'"
      ]
     },
     "execution_count": 20,
     "metadata": {},
     "output_type": "execute_result"
    }
   ],
   "source": [
    "config2 = {\"configurable\": {\"session_id\":\"chat4\"}}\n",
    "response = with_message_history.invoke(\n",
    "    {\"messages\": [HumanMessage(content=\"hi, i am aswani\")],\"language\":\"Hindi\"},\n",
    "    config=config2\n",
    ")\n",
    "response.content"
   ]
  },
  {
   "cell_type": "code",
   "execution_count": 21,
   "id": "66d938d8",
   "metadata": {},
   "outputs": [
    {
     "data": {
      "text/plain": [
       "'Your name is Aswani. 😊 \\n\\nWie kann ich dir heute weiterhelfen, Aswani? \\n'"
      ]
     },
     "execution_count": 21,
     "metadata": {},
     "output_type": "execute_result"
    }
   ],
   "source": [
    "response = with_message_history.invoke(\n",
    "    {\"messages\": [HumanMessage(content=\"whats my name is ?\")],\"language\":\"german\"},\n",
    "    config=config2\n",
    ")\n",
    "response.content"
   ]
  },
  {
   "cell_type": "markdown",
   "id": "a31f8898",
   "metadata": {},
   "source": [
    "### Managing the Conversation History\n",
    "One important concept to understand when building chatbots is how to manage conversation history. If left unmanaged, the list of messages will grow unbounded and potentially overflow the context window of the LLM. Therefore, it is important to add a step that limits the size of the messages you are passing in.\n",
    "'trim_messages' helper to reduce how many messages we're sending to the model. The trimmer allows us to specify how many tokens we want to keep, along with other parameters like if we want to always keep the system message and whether to allow partial messages"
   ]
  },
  {
   "cell_type": "code",
   "execution_count": 22,
   "id": "422c8c9e",
   "metadata": {},
   "outputs": [
    {
     "name": "stderr",
     "output_type": "stream",
     "text": [
      "c:\\Users\\aswan\\anaconda3\\envs\\venv\\Lib\\site-packages\\tqdm\\auto.py:21: TqdmWarning: IProgress not found. Please update jupyter and ipywidgets. See https://ipywidgets.readthedocs.io/en/stable/user_install.html\n",
      "  from .autonotebook import tqdm as notebook_tqdm\n"
     ]
    },
    {
     "data": {
      "text/plain": [
       "[SystemMessage(content=\"you're a good assistant\"),\n",
       " HumanMessage(content='I like vanilla ice cream'),\n",
       " AIMessage(content='nice'),\n",
       " HumanMessage(content='whats 2 + 2'),\n",
       " AIMessage(content='4'),\n",
       " HumanMessage(content='thanks'),\n",
       " AIMessage(content='no problem!'),\n",
       " HumanMessage(content='having fun?'),\n",
       " AIMessage(content='yes!')]"
      ]
     },
     "execution_count": 22,
     "metadata": {},
     "output_type": "execute_result"
    }
   ],
   "source": [
    "from langchain_core.messages import SystemMessage,trim_messages\n",
    "trimmer = trim_messages(\n",
    "    max_tokens = 45,\n",
    "    strategy = \"last\",\n",
    "    token_counter = model,\n",
    "    include_system = True,\n",
    "    allow_partial = True,\n",
    "    start_on = \"human\"\n",
    ")\n",
    "messages = [\n",
    "    SystemMessage(content=\"you're a good assistant\"),\n",
    "    HumanMessage(content=\"hi! I'm bob\"),\n",
    "    AIMessage(content=\"hi!\"),\n",
    "    HumanMessage(content=\"I like vanilla ice cream\"),\n",
    "    AIMessage(content=\"nice\"),\n",
    "    HumanMessage(content=\"whats 2 + 2\"),\n",
    "    AIMessage(content=\"4\"),\n",
    "    HumanMessage(content=\"thanks\"),\n",
    "    AIMessage(content=\"no problem!\"),\n",
    "    HumanMessage(content=\"having fun?\"),\n",
    "    AIMessage(content=\"yes!\"),\n",
    "]\n",
    "trimmer.invoke(messages)"
   ]
  },
  {
   "cell_type": "code",
   "execution_count": 23,
   "id": "9701dbee",
   "metadata": {},
   "outputs": [
    {
     "data": {
      "text/plain": [
       "\"As a large language model, I don't have access to your personal information, including your favorite ice cream flavor.  \\n\\nWhat's your favorite flavor? 😊  I love learning new things!\\n\""
      ]
     },
     "execution_count": 23,
     "metadata": {},
     "output_type": "execute_result"
    }
   ],
   "source": [
    "from operator import itemgetter\n",
    "\n",
    "from langchain_core.runnables import RunnablePassthrough\n",
    "\n",
    "chain=(\n",
    "    RunnablePassthrough.assign(messages=itemgetter(\"messages\")|trimmer)\n",
    "    | prompt\n",
    "    | model\n",
    ")\n",
    "response=chain.invoke(\n",
    "    {\n",
    "        \"messages\":messages + [HumanMessage(content=\"What ice cream do i like ?\")],\n",
    "    \"language\":\"English\"\n",
    "    }\n",
    ")\n",
    "response.content"
   ]
  },
  {
   "cell_type": "code",
   "execution_count": 24,
   "id": "49070254",
   "metadata": {},
   "outputs": [
    {
     "data": {
      "text/plain": [
       "'You asked me \"What is 2 + 2?\" 😊 \\n\\n\\nLet me know if you want to try another one!\\n'"
      ]
     },
     "execution_count": 24,
     "metadata": {},
     "output_type": "execute_result"
    }
   ],
   "source": [
    "response = chain.invoke(\n",
    "    {\n",
    "        \"messages\":messages + [HumanMessage(content=\"What math problem did i asked to you ?\")],\n",
    "        \"language\": \"English\"\n",
    "    }\n",
    ")\n",
    "response.content"
   ]
  },
  {
   "cell_type": "code",
   "execution_count": 25,
   "id": "3fdcb2d2",
   "metadata": {},
   "outputs": [],
   "source": [
    "## Lets wrap this in the MEssage History\n",
    "with_message_history = RunnableWithMessageHistory(\n",
    "    chain,\n",
    "    get_session_history,\n",
    "    input_messages_key=\"messages\",\n",
    ")\n",
    "config5={\"configurable\": {\"session_id\":\"chat5\"}}\n"
   ]
  },
  {
   "cell_type": "code",
   "execution_count": 26,
   "id": "75fb9684",
   "metadata": {},
   "outputs": [
    {
     "data": {
      "text/plain": [
       "\"It's lovely to meet you!  \\n\\nWhile I can offer helpful tips and strategies, remember that I'm not a therapist or doctor. If you're struggling with severe anxiety or stress, please reach out to a mental health professional. \\n\\nNow, tell me, what's on your mind? What kind of stress or anxiety are you experiencing? \\n\\nKnowing more about your situation will help me offer more personalized advice.  \\n\\nAnd to answer your question, I don't know your name. Would you like to share it with me? 😊  \\n\\n\""
      ]
     },
     "execution_count": 26,
     "metadata": {},
     "output_type": "execute_result"
    }
   ],
   "source": [
    "response = with_message_history.invoke(\n",
    "    {\"messages\": [HumanMessage(content=\"whats my name is ?\")],\n",
    "     \"language\":\"English\"},\n",
    "    config=config5\n",
    ")\n",
    "response.content"
   ]
  },
  {
   "cell_type": "code",
   "execution_count": null,
   "id": "ed578342",
   "metadata": {},
   "outputs": [],
   "source": []
  }
 ],
 "metadata": {
  "kernelspec": {
   "display_name": "venv",
   "language": "python",
   "name": "python3"
  },
  "language_info": {
   "codemirror_mode": {
    "name": "ipython",
    "version": 3
   },
   "file_extension": ".py",
   "mimetype": "text/x-python",
   "name": "python",
   "nbconvert_exporter": "python",
   "pygments_lexer": "ipython3",
   "version": "3.11.13"
  }
 },
 "nbformat": 4,
 "nbformat_minor": 5
}
